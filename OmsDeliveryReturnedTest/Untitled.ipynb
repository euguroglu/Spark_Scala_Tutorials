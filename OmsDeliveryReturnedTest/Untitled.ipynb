{
 "cells": [
  {
   "cell_type": "code",
   "execution_count": 3,
   "metadata": {},
   "outputs": [],
   "source": [
    "from pyspark.sql.functions import *\n",
    "from pyspark.sql import SparkSession"
   ]
  },
  {
   "cell_type": "code",
   "execution_count": 4,
   "metadata": {},
   "outputs": [],
   "source": [
    "spark = SparkSession.builder \\\n",
    "      .appName(\"oms_returned_test\")\\\n",
    "      .master(\"local[3]\")\\\n",
    "      .config(\"spark.streaming.stopGracefullyOnShutdown\", \"true\")\\\n",
    "      .getOrCreate()"
   ]
  },
  {
   "cell_type": "code",
   "execution_count": 5,
   "metadata": {},
   "outputs": [
    {
     "data": {
      "text/html": [
       "\n",
       "            <div>\n",
       "                <p><b>SparkSession - in-memory</b></p>\n",
       "                \n",
       "        <div>\n",
       "            <p><b>SparkContext</b></p>\n",
       "\n",
       "            <p><a href=\"http://ENES.mshome.net:4041\">Spark UI</a></p>\n",
       "\n",
       "            <dl>\n",
       "              <dt>Version</dt>\n",
       "                <dd><code>v3.0.1</code></dd>\n",
       "              <dt>Master</dt>\n",
       "                <dd><code>local[3]</code></dd>\n",
       "              <dt>AppName</dt>\n",
       "                <dd><code>oms_returned_test</code></dd>\n",
       "            </dl>\n",
       "        </div>\n",
       "        \n",
       "            </div>\n",
       "        "
      ],
      "text/plain": [
       "<pyspark.sql.session.SparkSession at 0x2601b84cc40>"
      ]
     },
     "execution_count": 5,
     "metadata": {},
     "output_type": "execute_result"
    }
   ],
   "source": [
    "spark"
   ]
  },
  {
   "cell_type": "code",
   "execution_count": 13,
   "metadata": {},
   "outputs": [],
   "source": [
    "df = spark\\\n",
    "      .read\\\n",
    "      .format(\"json\")\\\n",
    "      .load(\"C:/Users/PC/Documents/Jupyter/Udemy/Spark_Scala/Program/OmsDeliveryReturnedTest/data/trial.json\")"
   ]
  },
  {
   "cell_type": "code",
   "execution_count": 12,
   "metadata": {},
   "outputs": [
    {
     "name": "stdout",
     "output_type": "stream",
     "text": [
      "+------+--------------------+------+--------------------+--------------------+----------------+\n",
      "|  code|  deliveryOrderLines|    id|        insertedDate|          receivedAt|returnedProducts|\n",
      "+------+--------------------+------+--------------------+--------------------+----------------+\n",
      "|string|[[string, string,...|string|2020-09-18T11:56:...|2021-06-07T14:47:39Z|   [[3, string]]|\n",
      "+------+--------------------+------+--------------------+--------------------+----------------+\n",
      "\n"
     ]
    }
   ],
   "source": [
    "dataStreamReader.show()"
   ]
  },
  {
   "cell_type": "code",
   "execution_count": 26,
   "metadata": {},
   "outputs": [],
   "source": [
    "df_time = df.select(\"insertedDate\")"
   ]
  },
  {
   "cell_type": "code",
   "execution_count": 30,
   "metadata": {},
   "outputs": [
    {
     "name": "stdout",
     "output_type": "stream",
     "text": [
      "+------------------------+\n",
      "|insertedDate            |\n",
      "+------------------------+\n",
      "|2020-09-18T11:56:28.783Z|\n",
      "+------------------------+\n",
      "\n"
     ]
    }
   ],
   "source": [
    "df_time.show(1,False)"
   ]
  },
  {
   "cell_type": "code",
   "execution_count": 34,
   "metadata": {},
   "outputs": [
    {
     "data": {
      "text/plain": [
       "Column<b\"to_timestamp(unix_timestamp(`insertedDate`, 'yyyy-MM-dd\\\\'T\\\\'HH:mm'))\">"
      ]
     },
     "execution_count": 34,
     "metadata": {},
     "output_type": "execute_result"
    }
   ],
   "source": [
    "to_timestamp(unix_timestamp(df_time.insertedDate,\"yyyy-MM-dd'T'HH:mm\"))"
   ]
  },
  {
   "cell_type": "code",
   "execution_count": 36,
   "metadata": {},
   "outputs": [],
   "source": [
    "a = from_unixtime(unix_timestamp(from_utc_timestamp(to_timestamp(unix_timestamp(df_time.insertedDate , \"yyyyy-MM-dd'T'HH:mm\")*1000), 'Europe/Istanbul')),'yyyy-MM-dd')"
   ]
  },
  {
   "cell_type": "code",
   "execution_count": 38,
   "metadata": {},
   "outputs": [
    {
     "name": "stdout",
     "output_type": "stream",
     "text": [
      "Column<b\"from_unixtime(unix_timestamp(from_utc_timestamp(to_timestamp((unix_timestamp(`insertedDate`, 'yyyyy-MM-dd\\\\'T\\\\'HH:mm') * 1000)), Europe/Istanbul), yyyy-MM-dd HH:mm:ss), yyyy-MM-dd)\">\n"
     ]
    }
   ],
   "source": [
    "print(a)"
   ]
  },
  {
   "cell_type": "code",
   "execution_count": 81,
   "metadata": {},
   "outputs": [],
   "source": [
    " df = df_time\\\n",
    "      .withColumn(\"deliverycreateddate\", expr(\"\"\"from_unixtime(unix_timestamp(from_utc_timestamp(to_timestamp(unix_timestamp(insertedDate , \"yyyy-MM-dd'T'HH:mm\")), 'Europe/Istanbul')),'yyyy-MM-dd') \"\"\"))\\\n",
    "      .drop(\"inserteddate\")"
   ]
  },
  {
   "cell_type": "code",
   "execution_count": 82,
   "metadata": {},
   "outputs": [
    {
     "data": {
      "text/plain": [
       "DataFrame[key: string, value: string]"
      ]
     },
     "execution_count": 82,
     "metadata": {},
     "output_type": "execute_result"
    }
   ],
   "source": [
    "spark.sql(\"set spark.sql.legacy.timeParserPolicy=LEGACY\")"
   ]
  },
  {
   "cell_type": "code",
   "execution_count": 83,
   "metadata": {},
   "outputs": [
    {
     "name": "stdout",
     "output_type": "stream",
     "text": [
      "+-------------------+\n",
      "|deliverycreateddate|\n",
      "+-------------------+\n",
      "|         2020-09-18|\n",
      "+-------------------+\n",
      "\n"
     ]
    }
   ],
   "source": [
    "df.show()"
   ]
  },
  {
   "cell_type": "code",
   "execution_count": null,
   "metadata": {},
   "outputs": [],
   "source": []
  }
 ],
 "metadata": {
  "kernelspec": {
   "display_name": "Python 3",
   "language": "python",
   "name": "python3"
  },
  "language_info": {
   "codemirror_mode": {
    "name": "ipython",
    "version": 3
   },
   "file_extension": ".py",
   "mimetype": "text/x-python",
   "name": "python",
   "nbconvert_exporter": "python",
   "pygments_lexer": "ipython3",
   "version": "3.8.5"
  }
 },
 "nbformat": 4,
 "nbformat_minor": 4
}
